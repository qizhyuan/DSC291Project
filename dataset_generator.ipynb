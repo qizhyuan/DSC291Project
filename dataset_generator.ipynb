{
 "cells": [
  {
   "cell_type": "code",
   "execution_count": 1,
   "id": "af594c5a",
   "metadata": {},
   "outputs": [],
   "source": [
    "import csv\n",
    "import random\n",
    "from collections import defaultdict"
   ]
  },
  {
   "cell_type": "code",
   "execution_count": 2,
   "id": "8dfdf70f",
   "metadata": {},
   "outputs": [],
   "source": [
    "SEED = 2022\n",
    "random.seed(SEED)"
   ]
  },
  {
   "cell_type": "code",
   "execution_count": 3,
   "id": "d9dafde8",
   "metadata": {},
   "outputs": [],
   "source": [
    "path = './Books.csv'"
   ]
  },
  {
   "cell_type": "code",
   "execution_count": 4,
   "id": "6e5f4654",
   "metadata": {},
   "outputs": [],
   "source": [
    "def read_csv(path):\n",
    "    with open(path, 'rt') as f:\n",
    "        c = csv.reader(f)\n",
    "        header = next(c)\n",
    "        for line in c:\n",
    "            item, user, rating, time = line\n",
    "            yield item, user, rating, time"
   ]
  },
  {
   "cell_type": "code",
   "execution_count": 5,
   "id": "f8bf6756",
   "metadata": {},
   "outputs": [],
   "source": [
    "def get_data_from_file(data_path):\n",
    "    users_per_item = defaultdict(list)\n",
    "    items_per_user = defaultdict(list)\n",
    "    interactions = []\n",
    "    for item, user, _, _ in read_csv(data_path):\n",
    "        users_per_item[item].append(user)\n",
    "        items_per_user[user].append(item)\n",
    "        interactions.append((user, item))\n",
    "    print(f\"user num: {len(items_per_user)}, item num: {len(users_per_item)}, instances: {len(interactions)}\")\n",
    "    print(f\"average user degree: {len(interactions) / len(items_per_user)}\")\n",
    "    print(f\"average item degree: {len(interactions) / len(users_per_item)}\")\n",
    "    return interactions, users_per_item, items_per_user"
   ]
  },
  {
   "cell_type": "code",
   "execution_count": 6,
   "id": "f27e9916",
   "metadata": {},
   "outputs": [
    {
     "name": "stdout",
     "output_type": "stream",
     "text": [
      "user num: 15362619, item num: 2930451, instances: 51311620\n",
      "average user degree: 3.3400307590782536\n",
      "average item degree: 17.50980309856742\n"
     ]
    }
   ],
   "source": [
    "interactions, users_per_item, items_per_user = get_data_from_file(path)"
   ]
  },
  {
   "cell_type": "code",
   "execution_count": 7,
   "id": "e969192e",
   "metadata": {},
   "outputs": [],
   "source": [
    "# rank the item by degree\n",
    "item_ranked_list = sorted(users_per_item.items(), key=lambda x: len(x[1]), reverse=True)"
   ]
  },
  {
   "cell_type": "code",
   "execution_count": 8,
   "id": "f87284e9",
   "metadata": {},
   "outputs": [],
   "source": [
    "# set the index range to select items \n",
    "ITEM_START_IDX = 2000\n",
    "SELECTED_ITEM_NUM = 25000"
   ]
  },
  {
   "cell_type": "code",
   "execution_count": 9,
   "id": "643a9a3b",
   "metadata": {},
   "outputs": [],
   "source": [
    "# extract the items for our dataset \n",
    "item_candidates = [item for (item, _) in item_ranked_list[ITEM_START_IDX:ITEM_START_IDX + SELECTED_ITEM_NUM]]"
   ]
  },
  {
   "cell_type": "code",
   "execution_count": 10,
   "id": "f861b941",
   "metadata": {},
   "outputs": [
    {
     "name": "stdout",
     "output_type": "stream",
     "text": [
      "user num: 5441387, item num: 25000, average user degree: 2.289087138995995\n"
     ]
    }
   ],
   "source": [
    "# for all the extracted items, get all the users that interact with them to generate a dict\n",
    "items_per_user_selected = defaultdict(list)\n",
    "avg_user_degree = 0\n",
    "for item in item_candidates:\n",
    "    for user in users_per_item[item]:\n",
    "        items_per_user_selected[user].append(item)\n",
    "        avg_user_degree += 1\n",
    "avg_user_degree = avg_user_degree / len(items_per_user_selected)\n",
    "print(f\"user num: {len(items_per_user_selected)}, item num: {len(item_candidates)}, average user degree: {avg_user_degree}\")"
   ]
  },
  {
   "cell_type": "code",
   "execution_count": 11,
   "id": "888e7732",
   "metadata": {},
   "outputs": [],
   "source": [
    "user_ranked_list = sorted(items_per_user_selected.items(), key=lambda x: len(x[1]), reverse=True)"
   ]
  },
  {
   "cell_type": "code",
   "execution_count": 12,
   "id": "a23d002a",
   "metadata": {},
   "outputs": [],
   "source": [
    "# set the index range to select users\n",
    "USER_START_IDX = 1000\n",
    "SELECTED_USER_NUM = 100000"
   ]
  },
  {
   "cell_type": "code",
   "execution_count": 13,
   "id": "fa456451",
   "metadata": {},
   "outputs": [],
   "source": [
    "# extract all the users for our dataset\n",
    "user_candidates = [x for (x, _) in user_ranked_list[USER_START_IDX:USER_START_IDX + SELECTED_USER_NUM]]"
   ]
  },
  {
   "cell_type": "code",
   "execution_count": 14,
   "id": "4c578681",
   "metadata": {},
   "outputs": [
    {
     "name": "stdout",
     "output_type": "stream",
     "text": [
      "user candidate num: 100000, item candidate num: 25000\n"
     ]
    }
   ],
   "source": [
    "item_candidate_set = set(item_candidates)\n",
    "user_candidate_set = set(user_candidates)\n",
    "print(f\"user candidate num: {len(user_candidate_set)}, item candidate num: {len(item_candidate_set)}\")"
   ]
  },
  {
   "cell_type": "code",
   "execution_count": 15,
   "id": "1f99b902",
   "metadata": {},
   "outputs": [],
   "source": [
    "# generate the adjacent tables for the instances within our refined user-item space\n",
    "def get_refined_data(interactions_ori, user_set, item_set):\n",
    "    itemsPerUser = defaultdict(list)\n",
    "    usersPerItem = defaultdict(list)\n",
    "    interactions_processed = []\n",
    "    for (user, item) in interactions_ori:\n",
    "        if user not in user_set:\n",
    "            continue\n",
    "        if item not in item_set:\n",
    "            continue\n",
    "        itemsPerUser[user].append(item)\n",
    "        usersPerItem[item].append(user)\n",
    "        interactions_processed.append((user, item))\n",
    "    print(f\"user num: {len(itemsPerUser)}, item num: {len(usersPerItem)}, instances: {len(interactions_processed)}\")\n",
    "    print(f\"average user degree: {len(interactions_processed) / len(itemsPerUser)}\")\n",
    "    print(f\"average item degree: {len(interactions_processed) / len(usersPerItem)}\")\n",
    "    return interactions_processed, usersPerItem, itemsPerUser"
   ]
  },
  {
   "cell_type": "code",
   "execution_count": 16,
   "id": "5d116592",
   "metadata": {},
   "outputs": [
    {
     "name": "stdout",
     "output_type": "stream",
     "text": [
      "user num: 100000, item num: 24972, instances: 2652446\n",
      "average user degree: 26.52446\n",
      "average item degree: 106.21680281915745\n"
     ]
    }
   ],
   "source": [
    "new_interactions, new_users_per_item, new_items_per_user = get_refined_data(interactions, user_candidate_set, item_candidate_set)"
   ]
  },
  {
   "cell_type": "code",
   "execution_count": 21,
   "id": "2741f483",
   "metadata": {},
   "outputs": [],
   "source": [
    "def generate_cross_domain_data(items_per_user, users_per_item, source_num=600000, test_data_num=20000):\n",
    "    # the lists contains source, target, test instances\n",
    "    source, target, test = [], [], []\n",
    "    # set up the adjacent tables for target/test domain to help generation\n",
    "    usersPerItemTarget = defaultdict(set)\n",
    "    itemsPerUserTarget = defaultdict(set)\n",
    "    usersPerItemTest = defaultdict(set)\n",
    "    itemsPerUserTest = defaultdict(set)\n",
    "    user_degree_dict = {k: len(v) for k, v in items_per_user.items()}\n",
    "    \n",
    "    # pick at most k users for a selected item to generate target domain data\n",
    "    def pick_target(item, users, k=3, p=0.1):\n",
    "        users = users.copy()\n",
    "        if p * len(users) > 1:\n",
    "            k = min(int(5 * k), int(p * len(users)))\n",
    "        users.sort(key=lambda x : user_degree_dict[x])\n",
    "        candidate_user_num = min(5 * k, len(users))\n",
    "        candidate_users = users[:candidate_user_num]\n",
    "        random.shuffle(candidate_users)\n",
    "        if len(candidate_users) >= 2:\n",
    "            candidate_users = candidate_users[:len(candidate_users) // 2]\n",
    "        candidate_users = candidate_users[:min(k, len(candidate_users))]\n",
    "        for i in range(len(candidate_users)):\n",
    "            user = candidate_users[i]\n",
    "            target.append((user, item))\n",
    "            usersPerItemTarget[item].add(user)\n",
    "            itemsPerUserTarget[user].add(item)\n",
    "\n",
    "    for item, users in users_per_item.items():\n",
    "        pick_target(item, users)\n",
    "        \n",
    "    target_user_set = set(itemsPerUserTarget.keys())\n",
    "    target_item_set = set(usersPerItemTarget.keys())\n",
    "    print(10 * \"*\"+\" target domain \" + 10 * \"*\")\n",
    "    print(f\"user num: {len(target_user_set)}, item num: {len(target_item_set)}, instances: {len(target)}\")\n",
    "    print(f\"average user degree: {len(target) / len(target_user_set)}\")\n",
    "    print(f\"average item degree: {len(target) / len(target_item_set)}\")\n",
    "    \n",
    "    for item, users in users_per_item.items():\n",
    "        for user in users:\n",
    "            if item in target_item_set and user not in target_user_set:\n",
    "                source.append((user, item, 1))\n",
    "    print(10 * \"*\"+\" source domain \" + 10 * \"*\")\n",
    "    print(f\"total instances: {len(source)}\")\n",
    "    random.shuffle(source)\n",
    "    source = random.sample(source, k=source_num)\n",
    "    print(f\"sampled instances: {len(source)}\")\n",
    "    source_item_set = set([v for (_, v, _) in source])\n",
    "    source_user_set = set([u for (u, _, _) in source])\n",
    "    print(f\"source user num: {len(source_user_set)}\")\n",
    "    print(f\"source item num: {len(source_item_set)}\")\n",
    "    print(f\"average user degree: {len(source) / len(source_user_set)}\")\n",
    "    print(f\"average item degree: {len(source) / len(source_item_set)}\")\n",
    "    \n",
    "    # use the common items across source and target to make sure both domain share the same items\n",
    "    common_items = source_item_set\n",
    "    target_processed = []\n",
    "    usersPerItemTarget = defaultdict(set)\n",
    "    itemsPerUserTarget = defaultdict(set)\n",
    "    for u, v in target:\n",
    "        if v in common_items:\n",
    "            target_processed.append((u, v))\n",
    "            usersPerItemTarget[v].add(u)\n",
    "            itemsPerUserTarget[u].add(v)\n",
    "    print(10 * \"*\"+\" processed target domain \" + 10 * \"*\")\n",
    "    print(f\"user num: {len(itemsPerUserTarget)}, item num: {len(usersPerItemTarget)}, instances: {len(target_processed)}\")\n",
    "    print(f\"average user degree: {len(target_processed) / len(itemsPerUserTarget)}\")\n",
    "    print(f\"average item degree: {len(target_processed) / len(usersPerItemTarget)}\")\n",
    "    target = target_processed\n",
    "    \n",
    "    target_user_set = set(itemsPerUserTarget.keys())\n",
    "    target_item_set = set(usersPerItemTarget.keys())\n",
    "    target_item_list = list(target_item_set)\n",
    "\n",
    "    # pick at most 1 user for a selected item to generate positive test data\n",
    "#     def pick_test(item, users, k=1):\n",
    "#         users.sort(key=lambda x : abs(len(itemsPerUserTest[x])))\n",
    "#         num = 0\n",
    "#         for user in users:\n",
    "#             if user in usersPerItemTarget[item] or user not in target_user_set:\n",
    "#                 continue\n",
    "#             test.append((user, item))\n",
    "#             usersPerItemTest[item].add(user)\n",
    "#             itemsPerUserTest[user].add(item)\n",
    "#             num += 1\n",
    "#             if num >= k:\n",
    "#                 break\n",
    "    # pick at most k item for a selected user to generate positive test data\n",
    "    \n",
    "    def pick_test(user, items, k=2):\n",
    "        random.shuffle(items)\n",
    "        num = 0\n",
    "        for item in items:\n",
    "            if item in itemsPerUserTarget[user] or item not in target_item_set:\n",
    "                continue\n",
    "            test.append((user, item))\n",
    "            usersPerItemTest[item].add(user)\n",
    "            itemsPerUserTest[user].add(item)\n",
    "            num += 1\n",
    "            if num >= k:\n",
    "                break\n",
    "    \n",
    "    for user in target_user_set:\n",
    "        pick_test(user, items_per_user[user])\n",
    "        \n",
    "    itemsPerUserTest = {k: v for (k, v) in itemsPerUserTest.items() if len(v) > 0}\n",
    "    print(10 * \"*\"+\" test positive data in target domain \" + 10 * \"*\")\n",
    "    print(f\"user num: {len(itemsPerUserTest)}, item num: {len(usersPerItemTest)}, instances: {len(test)}\")\n",
    "    print(f\"average user degree: {len(test) / len(itemsPerUserTest)}\")\n",
    "    print(f\"average item degree: {len(test) / len(usersPerItemTest)}\")\n",
    "    \n",
    "    # generate negative samples for the test data\n",
    "    test_all = []\n",
    "    target_user_list = list(target_user_set)\n",
    "    for (user, item) in test:\n",
    "        test_all.append((user, item, 1))\n",
    "        interacted_item_set = set(items_per_user[user])\n",
    "        neg = random.choice(target_item_list)\n",
    "        max_try = 10\n",
    "        try_num = 0\n",
    "        while neg in interacted_item_set and try_num < max_try:\n",
    "            neg = random.choice(target_item_list)\n",
    "            try_num += 1\n",
    "        if try_num >= max_try:\n",
    "            continue\n",
    "        test_all.append((user, neg, 0))\n",
    "    print(f\"total test candidate num: {len(test_all)}\")\n",
    "    test_sampled = random.sample(test_all, k=test_data_num)\n",
    "    print(f\"sampled test num: {len(test_sampled)}\")\n",
    "    \n",
    "    # add labels to the target data\n",
    "    target = [(u, v, 1) for u, v in target]\n",
    "    \n",
    "    \n",
    "    def save_data(data, path):\n",
    "        import pandas as pd\n",
    "        df = pd.DataFrame(data)\n",
    "        df.columns = ['user', 'item', 'label']\n",
    "        df.to_csv(path, index=False)\n",
    "    \n",
    "    save_data(source, 'data_source.csv')\n",
    "    save_data(target, 'data_target.csv')\n",
    "    save_data(test_sampled, 'data_test.csv')"
   ]
  },
  {
   "cell_type": "code",
   "execution_count": 22,
   "id": "19dd148d",
   "metadata": {},
   "outputs": [
    {
     "name": "stdout",
     "output_type": "stream",
     "text": [
      "********** target domain **********\n",
      "user num: 75730, item num: 24972, instances: 210079\n",
      "average user degree: 2.7740525551300674\n",
      "average item degree: 8.412582091942976\n",
      "********** source domain **********\n",
      "total instances: 1229554\n",
      "sampled instances: 600000\n",
      "source user num: 24269\n",
      "source item num: 23871\n",
      "average user degree: 24.722897523589765\n",
      "average item degree: 25.135101168782203\n",
      "********** processed target domain **********\n",
      "user num: 75260, item num: 23871, instances: 207902\n",
      "average user degree: 2.7624501727345203\n",
      "average item degree: 8.709396338653596\n",
      "********** test positive data in target domain **********\n",
      "user num: 75253, item num: 22642, instances: 150498\n",
      "average user degree: 1.999893691945836\n",
      "average item degree: 6.646850984895328\n",
      "total test candidate num: 300996\n",
      "sampled test num: 20000\n"
     ]
    }
   ],
   "source": [
    "generate_cross_domain_data(new_items_per_user, new_users_per_item)"
   ]
  }
 ],
 "metadata": {
  "kernelspec": {
   "display_name": "Python [conda env:.conda-temp]",
   "language": "python",
   "name": "conda-env-.conda-temp-py"
  },
  "language_info": {
   "codemirror_mode": {
    "name": "ipython",
    "version": 3
   },
   "file_extension": ".py",
   "mimetype": "text/x-python",
   "name": "python",
   "nbconvert_exporter": "python",
   "pygments_lexer": "ipython3",
   "version": "3.8.0"
  }
 },
 "nbformat": 4,
 "nbformat_minor": 5
}
