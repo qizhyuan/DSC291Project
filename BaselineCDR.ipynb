{
  "nbformat": 4,
  "nbformat_minor": 0,
  "metadata": {
    "colab": {
      "name": "Untitled6.ipynb",
      "provenance": [],
      "collapsed_sections": []
    },
    "kernelspec": {
      "name": "python3",
      "display_name": "Python 3"
    },
    "language_info": {
      "name": "python"
    }
  },
  "cells": [
    {
      "cell_type": "code",
      "source": [
        "import numpy as np\n",
        "import pandas as pd\n",
        "\n",
        "from collections import defaultdict\n",
        "\n",
        "from sklearn.metrics.pairwise import cosine_similarity\n",
        "from scipy import sparse"
      ],
      "metadata": {
        "id": "WnbhriO9Ob4b"
      },
      "execution_count": 1,
      "outputs": []
    },
    {
      "cell_type": "code",
      "source": [
        "# target domain data processing\n",
        "target_ratings = pd.read_csv(f'/content/data_target.csv', sep=',',\n",
        "                      encoding='latin-1')\n",
        "\n",
        "target_users = target_ratings.user.unique()\n",
        "target_items = target_ratings.item.unique()\n",
        "\n",
        "print(\"Target domain unique users: \", len(target_users))\n",
        "print(\"Target domain unique items: \", len(target_items))\n",
        "print(\"Target domain ratings: \", len(target_ratings.index))\n",
        "print('Avg user degree in target domain: ', len(target_ratings.index) / len(target_users))\n",
        "print('Avg item degree in target domain: ', len(target_ratings.index) / len(target_items))"
      ],
      "metadata": {
        "colab": {
          "base_uri": "https://localhost:8080/"
        },
        "id": "FlZuFr8QO-qG",
        "outputId": "f0ad3663-db8b-45b8-b397-898a11a908e2"
      },
      "execution_count": 2,
      "outputs": [
        {
          "output_type": "stream",
          "name": "stdout",
          "text": [
            "Target domain unique users:  10660\n",
            "Target domain unique items:  3589\n",
            "Target domain ratings:  19334\n",
            "Avg user degree in target domain:  1.8136960600375234\n",
            "Avg item degree in target domain:  5.387015881861243\n"
          ]
        }
      ]
    },
    {
      "cell_type": "code",
      "source": [
        "# test domain data processing\n",
        "test_ratings = pd.read_csv(f'/content/data_test.csv', sep=',',\n",
        "                      encoding='latin-1')\n",
        "\n",
        "test_users = test_ratings.user.unique()\n",
        "test_items = test_ratings.item.unique()\n",
        "\n",
        "print(\"Target domain unique users: \", len(test_users))\n",
        "print(\"Target domain unique items: \", len(test_items))\n",
        "print(\"Target domain ratings: \", len(test_ratings.index))"
      ],
      "metadata": {
        "colab": {
          "base_uri": "https://localhost:8080/"
        },
        "id": "iwtwnTGS2zrl",
        "outputId": "5ce3e635-d00b-431d-8b1a-25538db9fb6c"
      },
      "execution_count": 3,
      "outputs": [
        {
          "output_type": "stream",
          "name": "stdout",
          "text": [
            "Target domain unique users:  5019\n",
            "Target domain unique items:  2158\n",
            "Target domain ratings:  5019\n"
          ]
        }
      ]
    },
    {
      "cell_type": "code",
      "source": [
        "# verify test domain data is subset of target domain data\n",
        "print(\"Test user set is subset of target user set: \", set(test_users).issubset(set(target_users)))\n",
        "print(\"Test item set is subset of target item set: \", set(test_items).issubset(set(target_items)))"
      ],
      "metadata": {
        "colab": {
          "base_uri": "https://localhost:8080/"
        },
        "id": "Z_dz_29d9wEA",
        "outputId": "9233269c-3fdb-4ced-eebc-b380c40465a1"
      },
      "execution_count": 4,
      "outputs": [
        {
          "output_type": "stream",
          "name": "stdout",
          "text": [
            "Test user set is subset of target user set:  True\n",
            "Test item set is subset of target item set:  True\n"
          ]
        }
      ]
    },
    {
      "cell_type": "code",
      "source": [
        "# get useful lookup tables \n",
        "user_idx = range(len(target_users))\n",
        "item_idx = range(len(target_items))\n",
        "user_id = dict(zip(target_users, user_idx))\n",
        "item_id = dict(zip(target_items, item_idx))\n",
        "user_name = dict(zip(user_idx, target_users))\n",
        "item_name = dict(zip(item_idx, target_items))"
      ],
      "metadata": {
        "id": "Hf9Tpjp6Zdgl"
      },
      "execution_count": 5,
      "outputs": []
    },
    {
      "cell_type": "code",
      "source": [
        "items_of_user = defaultdict(set)\n",
        "item_popularity = defaultdict(int)\n",
        "rows, cols, vals = [], [], []\n",
        "\n",
        "for index, row in target_ratings.iterrows():\n",
        "    u, i = row['user'], row['item'] \n",
        "    r, c = user_id[u], item_id[i]\n",
        "    items_of_user[u].add(i)\n",
        "    item_popularity[i] += 1\n",
        "    rows.append(r)\n",
        "    cols.append(c)\n",
        "    vals.append(1.0)\n",
        "\n",
        "# sparse rating matrix in target domain\n",
        "Rt = sparse.csr_matrix((vals, (rows, cols)), shape=(len(target_users), len(target_items)))"
      ],
      "metadata": {
        "id": "eJfG-IYeEMXa"
      },
      "execution_count": 6,
      "outputs": []
    },
    {
      "cell_type": "code",
      "source": [
        "SEED = 2022\n",
        "np.random.seed(SEED)\n",
        "\n",
        "def negative_sampling(pos_data, item_set, sample_size):\n",
        "    user, item = pos_data\n",
        "    pos_items = items_of_user[user] \n",
        "    pos_items.add(item)\n",
        "    neg_items = [i for i in item_set if i not in pos_items]\n",
        "    sampled_neg_items = np.random.choice(neg_items, size=(sample_size - 1), replace=False)\n",
        "    sampled_data = [(user, i, 0) for i in sampled_neg_items]\n",
        "    sampled_data.append((user, item, 1))\n",
        "    return sampled_data"
      ],
      "metadata": {
        "id": "8tMLfse6_7aS"
      },
      "execution_count": 7,
      "outputs": []
    },
    {
      "cell_type": "code",
      "source": [
        "def generate_full_test_data(pos_test_data):\n",
        "    full_test_data = []\n",
        "    # for each positive test data, sample 99 negative data in target domain\n",
        "    for index, row in pos_test_data.iterrows():\n",
        "        u, i = row['user'], row['item']\n",
        "        full_test_data.append(negative_sampling((u, i), target_items, 100))\n",
        "    return full_test_data # shape: (len(test data), 100)"
      ],
      "metadata": {
        "id": "esYERH4fJifd"
      },
      "execution_count": 8,
      "outputs": []
    },
    {
      "cell_type": "code",
      "source": [
        "# change the problem to 'detect interaction', ratings = 1 means interacted\n",
        "test_ratings['rating'] = 1\n",
        "target_ratings['rating'] = 1\n",
        "\n",
        "# negative sampling test data\n",
        "full_test_data = generate_full_test_data(test_ratings)"
      ],
      "metadata": {
        "id": "VUUNauFAHipg"
      },
      "execution_count": 9,
      "outputs": []
    },
    {
      "cell_type": "code",
      "source": [
        "# Baseline 1: naive ranked by popularity for all test users\n",
        "def eval_baseline_popularity(item_popularity, test_data, k_list):\n",
        "\n",
        "    hit_count = [0.0] * len(k_list)\n",
        "\n",
        "    for data in test_data:\n",
        "        pos_item = None\n",
        "        pred_item_score = []\n",
        "        for _, item, rating in data: # 1 pos with 99 sampled neg \n",
        "            score = item_popularity[item]\n",
        "            pred_item_score.append((item, score))\n",
        "            if rating != 0.0:\n",
        "                pos_item = item\n",
        "\n",
        "        pred_item_score = sorted(pred_item_score, key=lambda t: t[1], reverse=True)\n",
        "        ranked_items = [i for i, _ in pred_item_score]\n",
        "\n",
        "        for c, k in enumerate(k_list):\n",
        "            if pos_item in ranked_items[:k]:\n",
        "                hit_count[c] += 1\n",
        "    \n",
        "    print(\"Baseline: rank by popularity\")\n",
        "    for c, k in enumerate(k_list):\n",
        "        print(\"hit@\" + str(k), \":\", hit_count[c] / len(test_data))"
      ],
      "metadata": {
        "id": "RnlTKdNwNgmu"
      },
      "execution_count": 10,
      "outputs": []
    },
    {
      "cell_type": "code",
      "source": [
        "eval_baseline_popularity(item_popularity, full_test_data, [1, 5, 10, 15])"
      ],
      "metadata": {
        "colab": {
          "base_uri": "https://localhost:8080/"
        },
        "id": "-kF2B2RfS2OT",
        "outputId": "07ca2baa-84bd-4bcf-898f-f6ad948e396d"
      },
      "execution_count": 11,
      "outputs": [
        {
          "output_type": "stream",
          "name": "stdout",
          "text": [
            "Baseline: rank by popularity\n",
            "hit@1 : 0.02171747360031879\n",
            "hit@5 : 0.10958358238692967\n",
            "hit@10 : 0.21797170751145648\n",
            "hit@15 : 0.3189878461844989\n"
          ]
        }
      ]
    },
    {
      "cell_type": "code",
      "source": [
        "def eval_baseline_similarity(items_of_user, item_popularity, similarities, test_data, k_list):\n",
        "\n",
        "    hit_count = [0.0] * len(k_list)\n",
        "\n",
        "    for data in test_data:\n",
        "        # get similar users of the current user in target domain\n",
        "        cur_user_id = user_id[data[0][0]]\n",
        "        similar_users = []\n",
        "        for c in range(len(target_users)):\n",
        "            sim = similarities[cur_user_id, c]\n",
        "            if sim > 0.0 and c != cur_user_id:\n",
        "                similar_user_name = user_name[c]\n",
        "                similar_users.append((similar_user_name, sim))\n",
        "\n",
        "        pos_item = None\n",
        "        pred_item_score = []\n",
        "\n",
        "        for _, item, rating in data:\n",
        "            score = 0.0\n",
        "            if len(similar_users) == 0: \n",
        "                # no similar user: use popularity\n",
        "                score = item_popularity[item]\n",
        "            else:\n",
        "                # score = avg similarity among users who interact with same item\n",
        "                score, count = 0.0, 0.0\n",
        "                for user, sim in similar_users:\n",
        "                    if item in items_of_user[user]:\n",
        "                        score += sim\n",
        "                        count += 1\n",
        "                score = score / count if count > 0 else 0\n",
        "\n",
        "            pred_item_score.append((item, score))\n",
        "            if rating != 0.0:\n",
        "                pos_item = item\n",
        "\n",
        "        # sort 100 items by predicted score\n",
        "        pred_item_score = sorted(pred_item_score, key=lambda t: t[1], reverse=True)\n",
        "\n",
        "        # all scores are 0 (all items are not interacted by similar users)\n",
        "        if pred_item_score[0][1] == 0.0: \n",
        "            # use popularity\n",
        "            pred_item_score = []\n",
        "            for _, item, rating in data: \n",
        "                score = item_popularity[item]\n",
        "                pred_item_score.append((item, score))\n",
        "            pred_item_score = sorted(pred_item_score, key=lambda t: t[1], reverse=True)\n",
        "\n",
        "        ranked_items = [i for i, _ in pred_item_score]\n",
        "\n",
        "        for c, k in enumerate(k_list):\n",
        "            if pos_item in ranked_items[:k]:\n",
        "                hit_count[c] += 1\n",
        "\n",
        "    print(\"Baseline: rank by similarity\")\n",
        "    for c, k in enumerate(k_list):\n",
        "        print(\"hit@\" + str(k), \":\", hit_count[c] / len(test_data))"
      ],
      "metadata": {
        "id": "ZIqaFexGY5kL"
      },
      "execution_count": 18,
      "outputs": []
    },
    {
      "cell_type": "code",
      "source": [
        "similarities = cosine_similarity(Rt)\n",
        "eval_baseline_similarity(items_of_user, item_popularity, similarities, full_test_data, [1, 5, 10, 15])"
      ],
      "metadata": {
        "colab": {
          "base_uri": "https://localhost:8080/"
        },
        "id": "NPslxhtKfNJ3",
        "outputId": "099a3908-eef9-4d9f-e22c-615ab89a1e47"
      },
      "execution_count": 13,
      "outputs": [
        {
          "output_type": "stream",
          "name": "stdout",
          "text": [
            "Baseline: rank by similarity\n",
            "hit@1 : 0.07352062163777645\n",
            "hit@5 : 0.1528192867105001\n",
            "hit@10 : 0.19884439131301057\n",
            "hit@15 : 0.2442717672843196\n"
          ]
        }
      ]
    },
    {
      "cell_type": "code",
      "source": [
        "def jaccard_similarity(items_of_user):\n",
        "    n = len(target_users)\n",
        "    similarities = np.identity(n)\n",
        "    for i in range(n):\n",
        "        for j in range(i + 1, n):\n",
        "            ui, uj = user_name[i], user_name[j]\n",
        "            items_i, items_j = items_of_user[ui], items_of_user[uj]\n",
        "            sim = len(items_i.intersection(items_j)) / len(items_i.union(items_j))\n",
        "            similarities[i, j] = similarities[j, i] = sim\n",
        "    return similarities\n",
        "\n",
        "similarities = jaccard_similarity(items_of_user)"
      ],
      "metadata": {
        "id": "SAA_Idqap4H0"
      },
      "execution_count": 14,
      "outputs": []
    },
    {
      "cell_type": "code",
      "source": [
        "eval_baseline_similarity(items_of_user, item_popularity, similarities, full_test_data, [1, 5, 10, 15])"
      ],
      "metadata": {
        "colab": {
          "base_uri": "https://localhost:8080/"
        },
        "id": "hDGT5Gbvz90w",
        "outputId": "be5ad06a-fab1-4ba3-c85b-7fb105a7dcc1"
      },
      "execution_count": 19,
      "outputs": [
        {
          "output_type": "stream",
          "name": "stdout",
          "text": [
            "Baseline: rank by similarity\n",
            "hit@1 : 0.755130504084479\n",
            "hit@5 : 0.9996015142458657\n",
            "hit@10 : 1.0\n",
            "hit@15 : 1.0\n"
          ]
        }
      ]
    },
    {
      "cell_type": "code",
      "source": [
        ""
      ],
      "metadata": {
        "id": "hcKKE8y_0nKS"
      },
      "execution_count": 15,
      "outputs": []
    }
  ]
}